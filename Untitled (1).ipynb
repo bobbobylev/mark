{
 "cells": [
  {
   "cell_type": "code",
   "execution_count": 1,
   "metadata": {},
   "outputs": [],
   "source": [
    "import numpy as np\n",
    "import re\n",
    "import matplotlib.pyplot as plt\n",
    "import seaborn as sns\n",
    "import pandas as pd\n",
    "%matplotlib inline\n",
    "sns.set()"
   ]
  },
  {
   "cell_type": "code",
   "execution_count": 7,
   "metadata": {},
   "outputs": [],
   "source": [
    "import glob\n",
    "\n",
    "read_files = glob.glob(\"*.txt\")\n",
    "\n",
    "with open(\"result.txt\", \"wb\") as outfile:\n",
    "    for f in read_files:\n",
    "        with open(f, \"rb\") as infile:\n",
    "            outfile.write(infile.read())"
   ]
  },
  {
   "cell_type": "code",
   "execution_count": 11,
   "metadata": {},
   "outputs": [],
   "source": [
    "with open('result.txt', 'r', encoding='utf-8') as f:\n",
    "    text = f.read().lower()\n",
    "text = re.sub('[^а-я]','', text)"
   ]
  },
  {
   "cell_type": "code",
   "execution_count": 20,
   "metadata": {},
   "outputs": [],
   "source": [
    "RUS = 'абвгдежзийклмнопрстуфхцчшщъыьэюя'\n",
    "POS = {l: i for i, l in enumerate(RUS)}"
   ]
  },
  {
   "cell_type": "code",
   "execution_count": 21,
   "metadata": {},
   "outputs": [],
   "source": [
    "probabilities = np.zeros((len(RUS), len(RUS)))"
   ]
  },
  {
   "cell_type": "code",
   "execution_count": 22,
   "metadata": {},
   "outputs": [],
   "source": [
    "for cp, cn in zip(text[:-1], text[1:]):\n",
    "    probabilities[POS[cp], POS[cn]] += 1"
   ]
  },
  {
   "cell_type": "code",
   "execution_count": 23,
   "metadata": {},
   "outputs": [],
   "source": [
    "probabilities = (probabilities / probabilities.sum(axis=1)[:, None])"
   ]
  },
  {
   "cell_type": "code",
   "execution_count": 24,
   "metadata": {},
   "outputs": [],
   "source": [
    "df = pd.DataFrame(probabilities, index=(c for c in RUS), columns=(c for c in RUS))"
   ]
  },
  {
   "cell_type": "code",
   "execution_count": 25,
   "metadata": {},
   "outputs": [
    {
     "data": {
      "text/html": [
       "<div>\n",
       "<style scoped>\n",
       "    .dataframe tbody tr th:only-of-type {\n",
       "        vertical-align: middle;\n",
       "    }\n",
       "\n",
       "    .dataframe tbody tr th {\n",
       "        vertical-align: top;\n",
       "    }\n",
       "\n",
       "    .dataframe thead th {\n",
       "        text-align: right;\n",
       "    }\n",
       "</style>\n",
       "<table border=\"1\" class=\"dataframe\">\n",
       "  <thead>\n",
       "    <tr style=\"text-align: right;\">\n",
       "      <th></th>\n",
       "      <th>а</th>\n",
       "      <th>б</th>\n",
       "      <th>в</th>\n",
       "      <th>г</th>\n",
       "      <th>д</th>\n",
       "      <th>е</th>\n",
       "      <th>ж</th>\n",
       "      <th>з</th>\n",
       "      <th>и</th>\n",
       "      <th>й</th>\n",
       "      <th>...</th>\n",
       "      <th>ц</th>\n",
       "      <th>ч</th>\n",
       "      <th>ш</th>\n",
       "      <th>щ</th>\n",
       "      <th>ъ</th>\n",
       "      <th>ы</th>\n",
       "      <th>ь</th>\n",
       "      <th>э</th>\n",
       "      <th>ю</th>\n",
       "      <th>я</th>\n",
       "    </tr>\n",
       "  </thead>\n",
       "  <tbody>\n",
       "    <tr>\n",
       "      <th>а</th>\n",
       "      <td>0.003376</td>\n",
       "      <td>0.018440</td>\n",
       "      <td>0.067412</td>\n",
       "      <td>0.018196</td>\n",
       "      <td>0.037984</td>\n",
       "      <td>0.020962</td>\n",
       "      <td>0.018541</td>\n",
       "      <td>0.061972</td>\n",
       "      <td>0.019512</td>\n",
       "      <td>0.009135</td>\n",
       "      <td>...</td>\n",
       "      <td>0.001614</td>\n",
       "      <td>0.016949</td>\n",
       "      <td>0.019401</td>\n",
       "      <td>0.003461</td>\n",
       "      <td>0.000000</td>\n",
       "      <td>0.000000</td>\n",
       "      <td>0.000000</td>\n",
       "      <td>0.004209</td>\n",
       "      <td>0.010945</td>\n",
       "      <td>0.036668</td>\n",
       "    </tr>\n",
       "    <tr>\n",
       "      <th>б</th>\n",
       "      <td>0.065845</td>\n",
       "      <td>0.000900</td>\n",
       "      <td>0.006102</td>\n",
       "      <td>0.000775</td>\n",
       "      <td>0.001701</td>\n",
       "      <td>0.142343</td>\n",
       "      <td>0.000550</td>\n",
       "      <td>0.000250</td>\n",
       "      <td>0.050415</td>\n",
       "      <td>0.000000</td>\n",
       "      <td>...</td>\n",
       "      <td>0.000200</td>\n",
       "      <td>0.001776</td>\n",
       "      <td>0.000350</td>\n",
       "      <td>0.013454</td>\n",
       "      <td>0.006777</td>\n",
       "      <td>0.272507</td>\n",
       "      <td>0.002501</td>\n",
       "      <td>0.002376</td>\n",
       "      <td>0.000275</td>\n",
       "      <td>0.029559</td>\n",
       "    </tr>\n",
       "    <tr>\n",
       "      <th>в</th>\n",
       "      <td>0.141206</td>\n",
       "      <td>0.005609</td>\n",
       "      <td>0.010091</td>\n",
       "      <td>0.008625</td>\n",
       "      <td>0.016593</td>\n",
       "      <td>0.115528</td>\n",
       "      <td>0.001297</td>\n",
       "      <td>0.015362</td>\n",
       "      <td>0.086590</td>\n",
       "      <td>0.000009</td>\n",
       "      <td>...</td>\n",
       "      <td>0.000930</td>\n",
       "      <td>0.004773</td>\n",
       "      <td>0.031184</td>\n",
       "      <td>0.000179</td>\n",
       "      <td>0.000338</td>\n",
       "      <td>0.063777</td>\n",
       "      <td>0.004134</td>\n",
       "      <td>0.006793</td>\n",
       "      <td>0.000056</td>\n",
       "      <td>0.005853</td>\n",
       "    </tr>\n",
       "    <tr>\n",
       "      <th>г</th>\n",
       "      <td>0.056614</td>\n",
       "      <td>0.001987</td>\n",
       "      <td>0.006072</td>\n",
       "      <td>0.000861</td>\n",
       "      <td>0.066241</td>\n",
       "      <td>0.031531</td>\n",
       "      <td>0.000442</td>\n",
       "      <td>0.002363</td>\n",
       "      <td>0.046281</td>\n",
       "      <td>0.000000</td>\n",
       "      <td>...</td>\n",
       "      <td>0.000132</td>\n",
       "      <td>0.002164</td>\n",
       "      <td>0.000486</td>\n",
       "      <td>0.000000</td>\n",
       "      <td>0.000000</td>\n",
       "      <td>0.000066</td>\n",
       "      <td>0.000110</td>\n",
       "      <td>0.000486</td>\n",
       "      <td>0.000199</td>\n",
       "      <td>0.000420</td>\n",
       "    </tr>\n",
       "    <tr>\n",
       "      <th>д</th>\n",
       "      <td>0.165688</td>\n",
       "      <td>0.002681</td>\n",
       "      <td>0.040610</td>\n",
       "      <td>0.002142</td>\n",
       "      <td>0.002383</td>\n",
       "      <td>0.171745</td>\n",
       "      <td>0.000780</td>\n",
       "      <td>0.001560</td>\n",
       "      <td>0.099234</td>\n",
       "      <td>0.000014</td>\n",
       "      <td>...</td>\n",
       "      <td>0.005816</td>\n",
       "      <td>0.002312</td>\n",
       "      <td>0.004936</td>\n",
       "      <td>0.000028</td>\n",
       "      <td>0.006553</td>\n",
       "      <td>0.023404</td>\n",
       "      <td>0.015262</td>\n",
       "      <td>0.000879</td>\n",
       "      <td>0.001660</td>\n",
       "      <td>0.016326</td>\n",
       "    </tr>\n",
       "  </tbody>\n",
       "</table>\n",
       "<p>5 rows × 32 columns</p>\n",
       "</div>"
      ],
      "text/plain": [
       "          а         б         в         г         д         е         ж  \\\n",
       "а  0.003376  0.018440  0.067412  0.018196  0.037984  0.020962  0.018541   \n",
       "б  0.065845  0.000900  0.006102  0.000775  0.001701  0.142343  0.000550   \n",
       "в  0.141206  0.005609  0.010091  0.008625  0.016593  0.115528  0.001297   \n",
       "г  0.056614  0.001987  0.006072  0.000861  0.066241  0.031531  0.000442   \n",
       "д  0.165688  0.002681  0.040610  0.002142  0.002383  0.171745  0.000780   \n",
       "\n",
       "          з         и         й  ...         ц         ч         ш         щ  \\\n",
       "а  0.061972  0.019512  0.009135  ...  0.001614  0.016949  0.019401  0.003461   \n",
       "б  0.000250  0.050415  0.000000  ...  0.000200  0.001776  0.000350  0.013454   \n",
       "в  0.015362  0.086590  0.000009  ...  0.000930  0.004773  0.031184  0.000179   \n",
       "г  0.002363  0.046281  0.000000  ...  0.000132  0.002164  0.000486  0.000000   \n",
       "д  0.001560  0.099234  0.000014  ...  0.005816  0.002312  0.004936  0.000028   \n",
       "\n",
       "          ъ         ы         ь         э         ю         я  \n",
       "а  0.000000  0.000000  0.000000  0.004209  0.010945  0.036668  \n",
       "б  0.006777  0.272507  0.002501  0.002376  0.000275  0.029559  \n",
       "в  0.000338  0.063777  0.004134  0.006793  0.000056  0.005853  \n",
       "г  0.000000  0.000066  0.000110  0.000486  0.000199  0.000420  \n",
       "д  0.006553  0.023404  0.015262  0.000879  0.001660  0.016326  \n",
       "\n",
       "[5 rows x 32 columns]"
      ]
     },
     "execution_count": 25,
     "metadata": {},
     "output_type": "execute_result"
    }
   ],
   "source": [
    "df.head()"
   ]
  },
  {
   "cell_type": "code",
   "execution_count": 26,
   "metadata": {},
   "outputs": [
    {
     "data": {
      "image/png": "[encoded data removed]",
      "text/plain": [
       "<Figure size 1008x576 with 2 Axes>"
      ]
     },
     "metadata": {
      "needs_background": "light"
     },
     "output_type": "display_data"
    }
   ],
   "source": [
    "plt.figure(figsize=(14,8))\n",
    "sns.heatmap(df)\n",
    "plt.show()"
   ]
  },
  {
   "cell_type": "code",
   "execution_count": 71,
   "metadata": {},
   "outputs": [
    {
     "name": "stdout",
     "output_type": "stream",
     "text": [
      "бмхуопре\n"
     ]
    }
   ],
   "source": [
    "s = ['б']\n",
    "start = np.random.choice(list(RUS))\n",
    "s.append(start)\n",
    "length = 6\n",
    "for i in range(length):\n",
    "    index = POS[s[i]]\n",
    "    next_char = np.random.choice(list(RUS), p=probabilities[index])\n",
    "    s.append(next_char)\n",
    "\n",
    "print (''.join(s))"
   ]
  },
  {
   "cell_type": "code",
   "execution_count": 98,
   "metadata": {},
   "outputs": [
    {
     "name": "stdout",
     "output_type": "stream",
     "text": [
      "бежегоне\n"
     ]
    }
   ],
   "source": [
    "s = []\n",
    "start = 'б'\n",
    "s.append(start)\n",
    "length = 7\n",
    "for i in range(length):\n",
    "    index = POS[s[i]]\n",
    "    next_char = np.random.choice(list(RUS), p=probabilities[index])\n",
    "    s.append(next_char)\n",
    "\n",
    "print (''.join(s))"
   ]
  },
  {
   "cell_type": "code",
   "execution_count": null,
   "metadata": {},
   "outputs": [],
   "source": []
  }
 ],
 "metadata": {
  "kernelspec": {
   "display_name": "Python 3",
   "language": "python",
   "name": "python3"
  },
  "language_info": {
   "codemirror_mode": {
    "name": "ipython",
    "version": 3
   },
   "file_extension": ".py",
   "mimetype": "text/x-python",
   "name": "python",
   "nbconvert_exporter": "python",
   "pygments_lexer": "ipython3",
   "version": "3.7.3"
  }
 },
 "nbformat": 4,
 "nbformat_minor": 2
}
